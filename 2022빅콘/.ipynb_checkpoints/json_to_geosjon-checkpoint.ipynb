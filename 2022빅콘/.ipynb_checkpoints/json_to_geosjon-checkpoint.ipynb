{
 "cells": [
  {
   "cell_type": "code",
   "execution_count": 1,
   "id": "2eab47cd",
   "metadata": {},
   "outputs": [],
   "source": [
    "import json\n",
    "import geojson\n",
    "from shapely.geometry import shape\n",
    "import pandas as pd"
   ]
  },
  {
   "cell_type": "code",
   "execution_count": 2,
   "id": "9a9c1479",
   "metadata": {},
   "outputs": [],
   "source": [
    "df1 = pd.read_csv(\"C:/Users/bhg/Downloads/발달상권현황.csv\",encoding='cp949')\n",
    "df2 = pd.read_csv(\"C:/Users/bhg/Downloads/골목상권현황.csv\",encoding='cp949')"
   ]
  },
  {
   "cell_type": "code",
   "execution_count": 4,
   "id": "832a7f35",
   "metadata": {},
   "outputs": [],
   "source": [
    "from shapely.geometry import shape\n",
    "geo1= []\n",
    "\n",
    "for o in df1['다중지역정보']:\n",
    "    geom = shape(eval(o))\n",
    "    geo1.append(geom.wkt)\n",
    "\n",
    "geo2=[]\n",
    "for o in df2['다중지역정보']:\n",
    "    geom = shape(eval(o))\n",
    "    geo2.append(geom.wkt)"
   ]
  },
  {
   "cell_type": "code",
   "execution_count": 5,
   "id": "4b53f642",
   "metadata": {},
   "outputs": [],
   "source": [
    "df1['geo'] = geo1\n",
    "df2.to_csv('발달상권현황_geo.csv',index=False)\n",
    "\n",
    "df2['geo'] = geo2\n",
    "df2.to_csv('골목상권현황_geo.csv',index=False)"
   ]
  }
 ],
 "metadata": {
  "kernelspec": {
   "display_name": "Python 3 (ipykernel)",
   "language": "python",
   "name": "python3"
  },
  "language_info": {
   "codemirror_mode": {
    "name": "ipython",
    "version": 3
   },
   "file_extension": ".py",
   "mimetype": "text/x-python",
   "name": "python",
   "nbconvert_exporter": "python",
   "pygments_lexer": "ipython3",
   "version": "3.8.13"
  }
 },
 "nbformat": 4,
 "nbformat_minor": 5
}
